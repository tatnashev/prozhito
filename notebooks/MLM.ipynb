{
  "cells": [
    {
      "cell_type": "code",
      "execution_count": null,
      "metadata": {
        "id": "8mxcpMqVjplv",
        "colab": {
          "base_uri": "https://localhost:8080/"
        },
        "outputId": "ce5fdb32-3a0c-4944-fa76-622c3029d8bd"
      },
      "outputs": [
        {
          "output_type": "stream",
          "name": "stdout",
          "text": [
            "\u001b[K     |████████████████████████████████| 4.0 MB 4.5 MB/s \n",
            "\u001b[K     |████████████████████████████████| 880 kB 41.0 MB/s \n",
            "\u001b[K     |████████████████████████████████| 77 kB 5.5 MB/s \n",
            "\u001b[K     |████████████████████████████████| 596 kB 47.6 MB/s \n",
            "\u001b[K     |████████████████████████████████| 6.6 MB 52.1 MB/s \n",
            "\u001b[?25h  Building wheel for sacremoses (setup.py) ... \u001b[?25l\u001b[?25hdone\n",
            "Requirement already satisfied: gdown in /usr/local/lib/python3.7/dist-packages (4.4.0)\n",
            "Requirement already satisfied: requests[socks] in /usr/local/lib/python3.7/dist-packages (from gdown) (2.23.0)\n",
            "Requirement already satisfied: filelock in /usr/local/lib/python3.7/dist-packages (from gdown) (3.6.0)\n",
            "Requirement already satisfied: tqdm in /usr/local/lib/python3.7/dist-packages (from gdown) (4.64.0)\n",
            "Requirement already satisfied: six in /usr/local/lib/python3.7/dist-packages (from gdown) (1.15.0)\n",
            "Requirement already satisfied: beautifulsoup4 in /usr/local/lib/python3.7/dist-packages (from gdown) (4.6.3)\n",
            "Requirement already satisfied: certifi>=2017.4.17 in /usr/local/lib/python3.7/dist-packages (from requests[socks]->gdown) (2021.10.8)\n",
            "Requirement already satisfied: chardet<4,>=3.0.2 in /usr/local/lib/python3.7/dist-packages (from requests[socks]->gdown) (3.0.4)\n",
            "Requirement already satisfied: idna<3,>=2.5 in /usr/local/lib/python3.7/dist-packages (from requests[socks]->gdown) (2.10)\n",
            "Requirement already satisfied: urllib3!=1.25.0,!=1.25.1,<1.26,>=1.21.1 in /usr/local/lib/python3.7/dist-packages (from requests[socks]->gdown) (1.24.3)\n",
            "Requirement already satisfied: PySocks!=1.5.7,>=1.5.6 in /usr/local/lib/python3.7/dist-packages (from requests[socks]->gdown) (1.7.1)\n"
          ]
        }
      ],
      "source": [
        "!pip install transformers --quiet \n",
        "!pip install pandas numpy nltk matplotlib gdown "
      ]
    },
    {
      "cell_type": "code",
      "execution_count": null,
      "metadata": {
        "id": "kxRTcC1RhWXR"
      },
      "outputs": [],
      "source": [
        "import pandas as pd \n",
        "import numpy as np \n",
        "import random\n",
        "import nltk \n",
        "from nltk.tokenize import word_tokenize\n",
        "\n",
        "import transformers \n",
        "from transformers import AutoTokenizer, AutoModelForMaskedLM\n",
        "import torch"
      ]
    },
    {
      "cell_type": "code",
      "source": [
        "nltk.download('punkt')"
      ],
      "metadata": {
        "colab": {
          "base_uri": "https://localhost:8080/"
        },
        "id": "Q8DqsP0je_25",
        "outputId": "c53dd7ad-0503-4238-f06c-de03c372fc3f"
      },
      "execution_count": null,
      "outputs": [
        {
          "output_type": "stream",
          "name": "stdout",
          "text": [
            "[nltk_data] Downloading package punkt to /root/nltk_data...\n",
            "[nltk_data]   Unzipping tokenizers/punkt.zip.\n"
          ]
        },
        {
          "output_type": "execute_result",
          "data": {
            "text/plain": [
              "True"
            ]
          },
          "metadata": {},
          "execution_count": 3
        }
      ]
    },
    {
      "cell_type": "code",
      "execution_count": null,
      "metadata": {
        "id": "7AtptYekNniu"
      },
      "outputs": [],
      "source": [
        "seed = 42 \n",
        "torch.manual_seed(seed)\n",
        "np.random.seed(seed) \n",
        "random.seed(seed)"
      ]
    },
    {
      "cell_type": "markdown",
      "source": [
        "## Загружаем тексты"
      ],
      "metadata": {
        "id": "D5WV9y_pkihf"
      }
    },
    {
      "cell_type": "code",
      "source": [
        "# download prozhito texts \n",
        "import gdown\n",
        "\n",
        "url = 'https://drive.google.com/file/d/1oHAmsa6Nxb1B2sbWriJXCExETwSirtMj/view?usp=sharing' \n",
        "gdown.download(url, 'prozhito_texts.zip', fuzzy=True)\n",
        "url = 'https://drive.google.com/file/d/1OKaDPoiS-JX1LRKYEB7o-p1v98nc1d_V/view?usp=sharing' \n",
        "gdown.download(url, 'lenta_texts.csv', fuzzy=True)"
      ],
      "metadata": {
        "id": "RySEtyPTjeqO",
        "colab": {
          "base_uri": "https://localhost:8080/",
          "height": 174
        },
        "outputId": "2e98a93a-ed66-4648-8d5a-0b33144c2272"
      },
      "execution_count": null,
      "outputs": [
        {
          "output_type": "stream",
          "name": "stderr",
          "text": [
            "Downloading...\n",
            "From: https://drive.google.com/uc?id=1oHAmsa6Nxb1B2sbWriJXCExETwSirtMj\n",
            "To: /content/prozhito_texts.zip\n",
            "100%|██████████| 20.8M/20.8M [00:00<00:00, 79.0MB/s]\n",
            "Downloading...\n",
            "From: https://drive.google.com/uc?id=1OKaDPoiS-JX1LRKYEB7o-p1v98nc1d_V\n",
            "To: /content/lenta_text.csv\n",
            "100%|██████████| 41.7M/41.7M [00:00<00:00, 93.8MB/s]\n"
          ]
        },
        {
          "output_type": "execute_result",
          "data": {
            "text/plain": [
              "'lenta_text.csv'"
            ],
            "application/vnd.google.colaboratory.intrinsic+json": {
              "type": "string"
            }
          },
          "metadata": {},
          "execution_count": 5
        }
      ]
    },
    {
      "cell_type": "code",
      "source": [
        "texts = [] "
      ],
      "metadata": {
        "id": "vqArQcC7kx0C"
      },
      "execution_count": null,
      "outputs": []
    },
    {
      "cell_type": "markdown",
      "source": [
        "### Прожито"
      ],
      "metadata": {
        "id": "prnPDdTbkyQb"
      }
    },
    {
      "cell_type": "code",
      "execution_count": null,
      "metadata": {
        "id": "cihgwkQghfVp"
      },
      "outputs": [],
      "source": [
        "!unzip prozhito_texts.zip"
      ]
    },
    {
      "cell_type": "code",
      "execution_count": null,
      "metadata": {
        "id": "vdYRUdsXh0t9"
      },
      "outputs": [],
      "source": [
        "import glob, os\n",
        "\n",
        "rootdir = 'prozhito_texts'\n",
        "for subdir, dirs, files in os.walk(rootdir):\n",
        "    for filename in files:\n",
        "        if filename.endswith('.txt'): \n",
        "            path = os.path.join(subdir, filename)\n",
        "            with open(path) as f: \n",
        "                sents = f.readlines() \n",
        "                sents = list(map(lambda x: x.strip(), sents))\n",
        "                texts.extend([' '.join(sents)] * 5)"
      ]
    },
    {
      "cell_type": "code",
      "execution_count": null,
      "metadata": {
        "colab": {
          "base_uri": "https://localhost:8080/"
        },
        "id": "yVcorSf_jA04",
        "outputId": "03960db6-e082-4c3d-d9b3-30eaf0f1cc3a"
      },
      "outputs": [
        {
          "output_type": "execute_result",
          "data": {
            "text/plain": [
              "80420"
            ]
          },
          "metadata": {},
          "execution_count": 10
        }
      ],
      "source": [
        "len(texts)"
      ]
    },
    {
      "cell_type": "code",
      "execution_count": null,
      "metadata": {
        "colab": {
          "base_uri": "https://localhost:8080/",
          "height": 35
        },
        "id": "mVXrr7YUjYby",
        "outputId": "812e410e-7029-4a8a-ff00-84b7d50961ea"
      },
      "outputs": [
        {
          "output_type": "execute_result",
          "data": {
            "text/plain": [
              "'Пахали усадьбы в Семушине и у нас Юрка животника — Трактором .'"
            ],
            "application/vnd.google.colaboratory.intrinsic+json": {
              "type": "string"
            }
          },
          "metadata": {},
          "execution_count": 11
        }
      ],
      "source": [
        "texts[4]"
      ]
    },
    {
      "cell_type": "markdown",
      "source": [
        "### Новости"
      ],
      "metadata": {
        "id": "WLIaqSwtk1Da"
      }
    },
    {
      "cell_type": "code",
      "source": [
        "df = pd.read_csv('lenta_texts.csv') \n",
        "df.head()"
      ],
      "metadata": {
        "colab": {
          "base_uri": "https://localhost:8080/",
          "height": 337
        },
        "id": "aHw-2Ii6k2zf",
        "outputId": "3c6632b4-fd90-4689-ec49-17caa6cecd45"
      },
      "execution_count": null,
      "outputs": [
        {
          "output_type": "execute_result",
          "data": {
            "text/plain": [
              "                                           url  \\\n",
              "0        https://lenta.ru/news/2002/10/09/cbr/   \n",
              "1     https://lenta.ru/news/2019/06/25/liniya/   \n",
              "2  https://lenta.ru/news/2007/05/28/boxoffice/   \n",
              "3     https://lenta.ru/news/2009/03/13/broken/   \n",
              "4      https://lenta.ru/news/2009/05/04/third/   \n",
              "\n",
              "                                               title  \\\n",
              "0    Центробанк решил не радовать фальшивомонетчиков   \n",
              "1  Более 26 миллионов россиян посмотрели прямую л...   \n",
              "2  Третьим \"Пиратам Карибского моря\" не удалось о...   \n",
              "3  Половину проверенных МиГ-29 признали непригодн...   \n",
              "4     По делу о бойне в Баку задержан второй человек   \n",
              "\n",
              "                                                text            topic  \\\n",
              "0  Банк России не планирует в ближайший год вводи...        Экономика   \n",
              "1  Более 26 миллионов россиян посмотрели трансляц...              NaN   \n",
              "2  Фильму \"Пираты Карибского моря. На краю света\"...         Культура   \n",
              "3  Около 90 истребителей МиГ-29 забракованы в ход...  Наука и техника   \n",
              "4  Азербайджанские правоохранительные органы заде...      Бывший СССР   \n",
              "\n",
              "       tags        date  year  \n",
              "0       Все  2002/10/09  2002  \n",
              "1  Интернет  2019/06/25  2019  \n",
              "2       Все  2007/05/28  2007  \n",
              "3       Все  2009/03/13  2009  \n",
              "4       Все  2009/05/04  2009  "
            ],
            "text/html": [
              "\n",
              "  <div id=\"df-f3c0fbc1-e743-4ceb-b0d4-5109e7d26972\">\n",
              "    <div class=\"colab-df-container\">\n",
              "      <div>\n",
              "<style scoped>\n",
              "    .dataframe tbody tr th:only-of-type {\n",
              "        vertical-align: middle;\n",
              "    }\n",
              "\n",
              "    .dataframe tbody tr th {\n",
              "        vertical-align: top;\n",
              "    }\n",
              "\n",
              "    .dataframe thead th {\n",
              "        text-align: right;\n",
              "    }\n",
              "</style>\n",
              "<table border=\"1\" class=\"dataframe\">\n",
              "  <thead>\n",
              "    <tr style=\"text-align: right;\">\n",
              "      <th></th>\n",
              "      <th>url</th>\n",
              "      <th>title</th>\n",
              "      <th>text</th>\n",
              "      <th>topic</th>\n",
              "      <th>tags</th>\n",
              "      <th>date</th>\n",
              "      <th>year</th>\n",
              "    </tr>\n",
              "  </thead>\n",
              "  <tbody>\n",
              "    <tr>\n",
              "      <th>0</th>\n",
              "      <td>https://lenta.ru/news/2002/10/09/cbr/</td>\n",
              "      <td>Центробанк решил не радовать фальшивомонетчиков</td>\n",
              "      <td>Банк России не планирует в ближайший год вводи...</td>\n",
              "      <td>Экономика</td>\n",
              "      <td>Все</td>\n",
              "      <td>2002/10/09</td>\n",
              "      <td>2002</td>\n",
              "    </tr>\n",
              "    <tr>\n",
              "      <th>1</th>\n",
              "      <td>https://lenta.ru/news/2019/06/25/liniya/</td>\n",
              "      <td>Более 26 миллионов россиян посмотрели прямую л...</td>\n",
              "      <td>Более 26 миллионов россиян посмотрели трансляц...</td>\n",
              "      <td>NaN</td>\n",
              "      <td>Интернет</td>\n",
              "      <td>2019/06/25</td>\n",
              "      <td>2019</td>\n",
              "    </tr>\n",
              "    <tr>\n",
              "      <th>2</th>\n",
              "      <td>https://lenta.ru/news/2007/05/28/boxoffice/</td>\n",
              "      <td>Третьим \"Пиратам Карибского моря\" не удалось о...</td>\n",
              "      <td>Фильму \"Пираты Карибского моря. На краю света\"...</td>\n",
              "      <td>Культура</td>\n",
              "      <td>Все</td>\n",
              "      <td>2007/05/28</td>\n",
              "      <td>2007</td>\n",
              "    </tr>\n",
              "    <tr>\n",
              "      <th>3</th>\n",
              "      <td>https://lenta.ru/news/2009/03/13/broken/</td>\n",
              "      <td>Половину проверенных МиГ-29 признали непригодн...</td>\n",
              "      <td>Около 90 истребителей МиГ-29 забракованы в ход...</td>\n",
              "      <td>Наука и техника</td>\n",
              "      <td>Все</td>\n",
              "      <td>2009/03/13</td>\n",
              "      <td>2009</td>\n",
              "    </tr>\n",
              "    <tr>\n",
              "      <th>4</th>\n",
              "      <td>https://lenta.ru/news/2009/05/04/third/</td>\n",
              "      <td>По делу о бойне в Баку задержан второй человек</td>\n",
              "      <td>Азербайджанские правоохранительные органы заде...</td>\n",
              "      <td>Бывший СССР</td>\n",
              "      <td>Все</td>\n",
              "      <td>2009/05/04</td>\n",
              "      <td>2009</td>\n",
              "    </tr>\n",
              "  </tbody>\n",
              "</table>\n",
              "</div>\n",
              "      <button class=\"colab-df-convert\" onclick=\"convertToInteractive('df-f3c0fbc1-e743-4ceb-b0d4-5109e7d26972')\"\n",
              "              title=\"Convert this dataframe to an interactive table.\"\n",
              "              style=\"display:none;\">\n",
              "        \n",
              "  <svg xmlns=\"http://www.w3.org/2000/svg\" height=\"24px\"viewBox=\"0 0 24 24\"\n",
              "       width=\"24px\">\n",
              "    <path d=\"M0 0h24v24H0V0z\" fill=\"none\"/>\n",
              "    <path d=\"M18.56 5.44l.94 2.06.94-2.06 2.06-.94-2.06-.94-.94-2.06-.94 2.06-2.06.94zm-11 1L8.5 8.5l.94-2.06 2.06-.94-2.06-.94L8.5 2.5l-.94 2.06-2.06.94zm10 10l.94 2.06.94-2.06 2.06-.94-2.06-.94-.94-2.06-.94 2.06-2.06.94z\"/><path d=\"M17.41 7.96l-1.37-1.37c-.4-.4-.92-.59-1.43-.59-.52 0-1.04.2-1.43.59L10.3 9.45l-7.72 7.72c-.78.78-.78 2.05 0 2.83L4 21.41c.39.39.9.59 1.41.59.51 0 1.02-.2 1.41-.59l7.78-7.78 2.81-2.81c.8-.78.8-2.07 0-2.86zM5.41 20L4 18.59l7.72-7.72 1.47 1.35L5.41 20z\"/>\n",
              "  </svg>\n",
              "      </button>\n",
              "      \n",
              "  <style>\n",
              "    .colab-df-container {\n",
              "      display:flex;\n",
              "      flex-wrap:wrap;\n",
              "      gap: 12px;\n",
              "    }\n",
              "\n",
              "    .colab-df-convert {\n",
              "      background-color: #E8F0FE;\n",
              "      border: none;\n",
              "      border-radius: 50%;\n",
              "      cursor: pointer;\n",
              "      display: none;\n",
              "      fill: #1967D2;\n",
              "      height: 32px;\n",
              "      padding: 0 0 0 0;\n",
              "      width: 32px;\n",
              "    }\n",
              "\n",
              "    .colab-df-convert:hover {\n",
              "      background-color: #E2EBFA;\n",
              "      box-shadow: 0px 1px 2px rgba(60, 64, 67, 0.3), 0px 1px 3px 1px rgba(60, 64, 67, 0.15);\n",
              "      fill: #174EA6;\n",
              "    }\n",
              "\n",
              "    [theme=dark] .colab-df-convert {\n",
              "      background-color: #3B4455;\n",
              "      fill: #D2E3FC;\n",
              "    }\n",
              "\n",
              "    [theme=dark] .colab-df-convert:hover {\n",
              "      background-color: #434B5C;\n",
              "      box-shadow: 0px 1px 3px 1px rgba(0, 0, 0, 0.15);\n",
              "      filter: drop-shadow(0px 1px 2px rgba(0, 0, 0, 0.3));\n",
              "      fill: #FFFFFF;\n",
              "    }\n",
              "  </style>\n",
              "\n",
              "      <script>\n",
              "        const buttonEl =\n",
              "          document.querySelector('#df-f3c0fbc1-e743-4ceb-b0d4-5109e7d26972 button.colab-df-convert');\n",
              "        buttonEl.style.display =\n",
              "          google.colab.kernel.accessAllowed ? 'block' : 'none';\n",
              "\n",
              "        async function convertToInteractive(key) {\n",
              "          const element = document.querySelector('#df-f3c0fbc1-e743-4ceb-b0d4-5109e7d26972');\n",
              "          const dataTable =\n",
              "            await google.colab.kernel.invokeFunction('convertToInteractive',\n",
              "                                                     [key], {});\n",
              "          if (!dataTable) return;\n",
              "\n",
              "          const docLinkHtml = 'Like what you see? Visit the ' +\n",
              "            '<a target=\"_blank\" href=https://colab.research.google.com/notebooks/data_table.ipynb>data table notebook</a>'\n",
              "            + ' to learn more about interactive tables.';\n",
              "          element.innerHTML = '';\n",
              "          dataTable['output_type'] = 'display_data';\n",
              "          await google.colab.output.renderOutput(dataTable, element);\n",
              "          const docLink = document.createElement('div');\n",
              "          docLink.innerHTML = docLinkHtml;\n",
              "          element.appendChild(docLink);\n",
              "        }\n",
              "      </script>\n",
              "    </div>\n",
              "  </div>\n",
              "  "
            ]
          },
          "metadata": {},
          "execution_count": 13
        }
      ]
    },
    {
      "cell_type": "code",
      "source": [
        "for i in range(5): \n",
        "    texts.extend(df['text'].values)"
      ],
      "metadata": {
        "id": "1sIvqOcEk2v7"
      },
      "execution_count": null,
      "outputs": []
    },
    {
      "cell_type": "code",
      "source": [
        "texts[-1]"
      ],
      "metadata": {
        "colab": {
          "base_uri": "https://localhost:8080/",
          "height": 139
        },
        "id": "h-Q6o6y2k2o0",
        "outputId": "2ec95c65-4d99-43cb-cc27-bc386ddcf41c"
      },
      "execution_count": null,
      "outputs": [
        {
          "output_type": "execute_result",
          "data": {
            "text/plain": [
              "'Счетная палата начала проверку Банка Москвы, входящего в пятерку крупнейших банков страны. Об этом сообщает РИА Новости со ссылкой на аудитора Счетной палаты Михаила Бесхмельницына. \"Буквально в пятницу принято решение и уже разработана программа по проверке Банка Москвы, причем мы думаем провести комплексную проверку - его деятельности как банка, так и его участия в реализации программ по городу Москве, в том числе как агента\", - сказал Бесхмельницын. С чем связана проверка Банка Москвы, аудитор не уточнил. Банк Москвы был создан в марте 1995 года правительством столицы. Сейчас столице напрямую принадлежит 46,48 процента акций. Еще 17,32 процента финансовой организации чиновники контролируют через группу дочерних компаний ОАО \"Столичная страховая группа\". Президент банка Андрей Бородин совместно с Львом Алалуевым владеют долей в 20,32 процента. Ранее российские деловые СМИ сообщали, что новое руководство Москвы начало переговоры по продаже части акций \"Банка Москвы\" государственной финансовой организации ВТБ. Так, портал Slon утверждал, что в мэрии хотели бы снизить влияние на банк со стороны Бородина. Однако журналистам было официально объявлено, что ни правительство Москвы, ни структуры Бородина не продают акции банка. Позднее интерес ВТБ к Банку Москвы подтвердил министр финансов России Алексей Кудрин. Чиновник заявил, что госбанк хочет купить всю 46-процентную долю столичных властей  и обсуждает эту сделку, но решение пока не принято, передавало агентство Reuters. Газета \"Коммерсант\" отмечала, что ВТБ медлит с решением о вхождении в капитал Банка Москвы. Источники издания утверждали, что банк интересует контрольный пакет организации. Кроме того, для ВТБ важно, чтобы Банк Москвы сохранил свой нынешний статус опорного банка правительства Москвы, структуры которого будут по-прежнему размещать в банке временно свободные денежные средства.'"
            ],
            "application/vnd.google.colaboratory.intrinsic+json": {
              "type": "string"
            }
          },
          "metadata": {},
          "execution_count": 18
        }
      ]
    },
    {
      "cell_type": "code",
      "source": [
        "len(texts)"
      ],
      "metadata": {
        "colab": {
          "base_uri": "https://localhost:8080/"
        },
        "id": "stJvEtKGllpw",
        "outputId": "2c1240a5-de30-4776-bdb5-d0f53a749e6f"
      },
      "execution_count": null,
      "outputs": [
        {
          "output_type": "execute_result",
          "data": {
            "text/plain": [
              "160520"
            ]
          },
          "metadata": {},
          "execution_count": 19
        }
      ]
    },
    {
      "cell_type": "markdown",
      "source": [
        "### Перемешиваем тексты"
      ],
      "metadata": {
        "id": "jLCj96ZymTvO"
      }
    },
    {
      "cell_type": "code",
      "source": [
        "random.shuffle(texts) \n",
        "texts[-1]"
      ],
      "metadata": {
        "colab": {
          "base_uri": "https://localhost:8080/",
          "height": 139
        },
        "id": "sNlNmVnSmVc2",
        "outputId": "5bf845ad-c657-49f2-d562-8d9a70e3389e"
      },
      "execution_count": null,
      "outputs": [
        {
          "output_type": "execute_result",
          "data": {
            "text/plain": [
              "'Утром пошли в ПК ДОМА , узнали , что сегодня будет собрание ОЗР * [ отряды * * защитников * * революции * * — * * Г . К . ] * и БОПа . Пошли к месту собрания ( что-то вроде клуба ) . Секретарь горкома ДОМА и Доз Мухамад смеялись по поводу бестолковой организации мероприятия . ОЗР пошел к ПК НДПА , там прошло построение и что-то вроде митинга . Потом все ( около 50 человек из них 13 женщин ) встали в колонну по одному и пошли снова к клубу . Мы не очень хотели проходить в зал * [ были * * свои * * дела * * — * * Г . К . ] , * но неудобно было отказываться от приглашения . За столом президиума сидел Анатолий Александрович , Аль Ахмат , командир полка * [ гарнизон * * Калата * * — * * Г . К . ] * , царандоевец . Выступил Аль Ахмат ( выступал без бумажки ) . После него выступил каменданте царандоя , потом Назмеддин . Свое выступление он закончил стихотворением об апрельской революции . После общего собрания состоялось еще собрание бойцов БОПа . Там выступал в основном Коля Носенко * [ советник * * секретаря * * ПК * * ДОМА * * — * * Г . К . ] * , разъяснял порядок вступления в БОП , организацию работы . С моей точки зрения то , что он сам занялся формированием БОПа не совсем правильно . Перед собранием я ему предлагал проинструктировать Ахмада ( секретарь горкома ) , чтобы выступил он , а самому Коле дополнить выступление только в случае необходимости . Собрание прошло организовано и быстро . Обратил внимание , что у одной женщины на лбу была татуировка в виде креста , а на правой ноздре блестящая пуговка . После обеда пошли в ПК ДОМА на совещание по организации курсов . Среди актива , присутствовавшего на совещании , была Латифа , дочь прокурора ( лет 14 , но уже кандидат в члены НДПА , и еще одна дикая , как рысь , девушка с татуировкой на лбу ) . После совещания пошли на улицу дукандоров < com id = \" 14823508271419 \" / > . Много фотографировались , некоторые местные ребята отказывались фотографироваться , но большинство соглашались с радостью .'"
            ],
            "application/vnd.google.colaboratory.intrinsic+json": {
              "type": "string"
            }
          },
          "metadata": {},
          "execution_count": 20
        }
      ]
    },
    {
      "cell_type": "markdown",
      "metadata": {
        "id": "Hc_N7L5-jt30"
      },
      "source": [
        "## Загружаем машины"
      ]
    },
    {
      "cell_type": "code",
      "execution_count": null,
      "metadata": {
        "id": "BspMndSojtYD"
      },
      "outputs": [],
      "source": [
        "MODEL_PATH = \"cointegrated/rubert-tiny\""
      ]
    },
    {
      "cell_type": "code",
      "source": [
        "# s = 'Привет! Как ты?' \n",
        "# for word in word_tokenize(s): \n",
        "#     print(word)"
      ],
      "metadata": {
        "id": "-mOcOylye68D"
      },
      "execution_count": null,
      "outputs": []
    },
    {
      "cell_type": "code",
      "execution_count": null,
      "metadata": {
        "id": "B5Fsnq-tkWon",
        "colab": {
          "base_uri": "https://localhost:8080/"
        },
        "outputId": "89f3b55a-5988-4137-e71e-c5e816cbd13d"
      },
      "outputs": [
        {
          "output_type": "stream",
          "name": "stderr",
          "text": [
            "Some weights of the model checkpoint at DeepPavlov/rubert-base-cased were not used when initializing BertForMaskedLM: ['cls.seq_relationship.weight', 'cls.seq_relationship.bias']\n",
            "- This IS expected if you are initializing BertForMaskedLM from the checkpoint of a model trained on another task or with another architecture (e.g. initializing a BertForSequenceClassification model from a BertForPreTraining model).\n",
            "- This IS NOT expected if you are initializing BertForMaskedLM from the checkpoint of a model that you expect to be exactly identical (initializing a BertForSequenceClassification model from a BertForSequenceClassification model).\n"
          ]
        }
      ],
      "source": [
        "tokenizer = AutoTokenizer.from_pretrained(MODEL_PATH) \n",
        "model = AutoModelForMaskedLM.from_pretrained(MODEL_PATH) "
      ]
    },
    {
      "cell_type": "code",
      "source": [
        "# inputs = tokenizer(s_masked, return_tensors=\"pt\") \n",
        "# labels = tokenizer(s, return_tensors=\"pt\")[\"input_ids\"]\n",
        "\n",
        "# outputs = model(**inputs, labels=labels) \n",
        "# loss = outputs.loss \n",
        "# loss.backward()"
      ],
      "metadata": {
        "id": "aonkUZpLda9k"
      },
      "execution_count": null,
      "outputs": []
    },
    {
      "cell_type": "code",
      "execution_count": null,
      "metadata": {
        "id": "Q7rWTcPtknaW"
      },
      "outputs": [],
      "source": [
        "inputs = tokenizer(texts, return_tensors='pt',\n",
        "                   max_length=512, truncation=True, padding='max_length') "
      ]
    },
    {
      "cell_type": "code",
      "execution_count": null,
      "metadata": {
        "id": "6gFdXTn4lCw1"
      },
      "outputs": [],
      "source": [
        "inputs['labels'] = inputs.input_ids.detach().clone()"
      ]
    },
    {
      "cell_type": "code",
      "execution_count": null,
      "metadata": {
        "id": "U1gmXHo5mAhw"
      },
      "outputs": [],
      "source": [
        "# create random array of floats with equal dimensions to input_ids tensor\n",
        "rand = torch.rand(inputs.input_ids.shape)\n",
        "# create mask array\n",
        "mask_arr = (rand < 0.15) * (inputs.input_ids != 101) * (inputs.input_ids != 102) * (inputs.input_ids != 0)"
      ]
    },
    {
      "cell_type": "code",
      "execution_count": null,
      "metadata": {
        "id": "JpjZpEH2mJJE"
      },
      "outputs": [],
      "source": [
        "selection = []\n",
        "\n",
        "for i in range(inputs.input_ids.shape[0]):\n",
        "    array = torch.flatten(mask_arr[i].nonzero()) \n",
        "    if not torch.sum(array): \n",
        "        zero_idx = None \n",
        "        try: \n",
        "            zero_idx = inputs.input_ids[i].tolist().index(0)\n",
        "        except ValueError: \n",
        "            zero_idx = 512 \n",
        "\n",
        "        idx = np.random.randint(zero_idx) \n",
        "        mask_arr[i][idx] = True \n",
        "\n",
        "    selection.append(\n",
        "        torch.flatten(mask_arr[i].nonzero()).tolist()\n",
        "    )"
      ]
    },
    {
      "cell_type": "code",
      "execution_count": null,
      "metadata": {
        "id": "XtyWwSOAmSIX"
      },
      "outputs": [],
      "source": [
        "for i in range(inputs.input_ids.shape[0]):\n",
        "    inputs.input_ids[i, selection[i]] = 103"
      ]
    },
    {
      "cell_type": "code",
      "execution_count": null,
      "metadata": {
        "colab": {
          "base_uri": "https://localhost:8080/"
        },
        "id": "5vsPOtknrmUi",
        "outputId": "e7d67de0-158e-4d8b-c0d0-d0be385bf521"
      },
      "outputs": [
        {
          "output_type": "execute_result",
          "data": {
            "text/plain": [
              "tensor([   101,   9110,   1984,    164,    164,    304,   7472,    878,    106,\n",
              "           103,  28850,   6675,   1703,  11393,   7840,    869,    103,    898,\n",
              "         14198,  70663,   2761, 109813,  11401,    156,    304,    839, 101527,\n",
              "           128,    103,   4609,   8973,    103,   7853,  23198,    103,    326,\n",
              "           132,  36335,   4650,   9450,  38784,    128,   4609,   1699,    103,\n",
              "           128,   2739,    103,    861,  38784,   6305,  40819,    106,  29195,\n",
              "          1655,   1699,    103,    128,   5247,   4609,   8152,    103,  14198,\n",
              "           845,  58164,   8151,  13144,  54492,    842,    128,    103,   1699,\n",
              "          3815,   1997,   2067,  30145,    132,    103,   5853,    130,  10785,\n",
              "           128,    861,  38784,  15380,   1699,   8470,  12006,    132,  52275,\n",
              "         19202,    851,    845,  62197,    842,   8953,    845,    103,  31918,\n",
              "           861,  19555,  29255,    132,    777,  26916,    877,   2752,    845,\n",
              "         50425,    103,  85529,  53542,    103,    103,    103,    130,   3652,\n",
              "          1699,    877,   5259,  21989,    103,    613,  36858,    898,    128,\n",
              "           103,   3998,  12929,  69080,   7255,    132,    793,  17050,  14610,\n",
              "           103,  92685,   2558,  30238,    103,    103,   1469,    103,  18216,\n",
              "         33954,  28485,    103,    103,  72205,   1755,  11626,    103,   1572,\n",
              "         14198,    845,  20673,    851,   1516,  19385,    132,    164,    839,\n",
              "         82067,    845,  81287,    845,  25653,  97605,   1766,   6651,    851,\n",
              "        101298,   1469,  79916,  32224,    103,    103,    851,    103,    132,\n",
              "         21671,  19565,    103,   9899,   5663,   6586,  21547,    851,  36802,\n",
              "           845,   8590,  86043,    103,  88194,  22574,    132,  75670,  96871,\n",
              "         10441,    103,  21177,   1506,    128, 114194,    878,   8925,    851,\n",
              "          6678,    128,  27995,    132,    103,    797,  38784,  34788,    877,\n",
              "         12929,    851,    103,    103,    869,  60030,   6898,    851,    103,\n",
              "           866,    103,  79897,  29640,  19322,   1637,    103,    132,    793,\n",
              "          1699,   4564,   1703,    130,   1758,  55251,    120,   8235,   1650,\n",
              "          3491,   6379,    103,    103,  72448,    122,    103,    103,    103,\n",
              "           103,    103,  13496,    103,   1997,   4609,  84677,    103,   1703,\n",
              "           130,   1758,  14198,    845,    103,    103,    876,   1516,  91922,\n",
              "         21549,    851,   3248,  13231,  36858,  26318,  21989,  16919,    613,\n",
              "           132,  58716,    103,    861,  38784,   1699,  45958,  56777,    851,\n",
              "         47348,   2785,  21974,    777,    132,    781,    132,  32769,  38020,\n",
              "           132,  20299,   1699,  41848,  31189,    861,  38784, 119525,    852,\n",
              "           128,    851,    103,    103,    851,    128,   1997,   4139,  75151,\n",
              "           103,  45371,   1438,    128,  32933,    132,   4515,   3629,    103,\n",
              "         13322,   1699,  41848,    851,  41503,  19754,   4737,  91572,    869,\n",
              "         72448,   1516,  19027,  87419,    103,    103,    130,  32869,    128,\n",
              "          1699,  26756,    128,  20404,    128,    861,  51780,    132,  10015,\n",
              "           103,   3799,    128,   4752,  11479, 109258,    613,    132,  88078,\n",
              "          5269,    120,    851,  59321,    122,    128,  31146,    612,  19555,\n",
              "        103831,   1633,  14198,   8106,    851,  13496,    128,   1997,  14179,\n",
              "         26167,    103,   1699,    103,    128,    103,  20404,   2739,    103,\n",
              "         84904,    120,  26369,    103,   2882,    122,    132,    164,    797,\n",
              "         11660,   3629,    103,   1699,  25033,    103,    128,   1699,  63992,\n",
              "          2059,    845,  21504,  11872,    128,  13983,    128,   1997,   3998,\n",
              "         35648,    128,   1997,  43625,  28780,  17050,    845,    103,    132,\n",
              "           304,  42279,  13842,  57085,   3115,  75510,    901,  99244,   1662,\n",
              "           326,    132,   6654,  28309,  50552,    128,    851,    103,   1641,\n",
              "          4638,  57085,   2924,   1699,  23480,   2372,    132,  31847,  20034,\n",
              "           103,  17651,    128,    103,    845,  40714,   9510,   9858,  13922,\n",
              "           132,    793,   1516,  59250,  25527,    877,  52131,   1641,  31656,\n",
              "        101757,  17441,  12701,    128,  12798,    103,   2604,    103,  12798,\n",
              "         45371,   2059,    132,  25725,    851,    103,   1469,   7462,  78731,\n",
              "           103,   9734,   9509,   3799,    128,   3435,  20230,   1506,    851,\n",
              "          1454,    132,   8312,    877,   1699,  29086,   1703,   4638,  22278,\n",
              "         71135,  36723,   1572,    132,  22208,  10385,    898,    102])"
            ]
          },
          "metadata": {},
          "execution_count": 20
        }
      ],
      "source": [
        "inputs.input_ids[56]"
      ]
    },
    {
      "cell_type": "markdown",
      "metadata": {
        "id": "MdAVT4PBmiB6"
      },
      "source": [
        "### Готовим датасет"
      ]
    },
    {
      "cell_type": "code",
      "execution_count": null,
      "metadata": {
        "id": "j4gCAHhdmZvS"
      },
      "outputs": [],
      "source": [
        "class DiariesDataset(torch.utils.data.Dataset):\n",
        "    def __init__(self, encodings):\n",
        "        self.encodings = encodings\n",
        "    def __getitem__(self, idx):\n",
        "        return {key: torch.tensor(val[idx]) for key, val in self.encodings.items()}\n",
        "    def __len__(self):\n",
        "        return len(self.encodings.input_ids)"
      ]
    },
    {
      "cell_type": "code",
      "execution_count": null,
      "metadata": {
        "id": "ivZhw5lfmrQp"
      },
      "outputs": [],
      "source": [
        "dataset = DiariesDataset(inputs)"
      ]
    },
    {
      "cell_type": "code",
      "execution_count": null,
      "metadata": {
        "id": "N9InlrbAmyjj"
      },
      "outputs": [],
      "source": [
        "loader = torch.utils.data.DataLoader(dataset, batch_size=8, shuffle=True)"
      ]
    },
    {
      "cell_type": "code",
      "execution_count": null,
      "metadata": {
        "id": "UoAQPyvEm159"
      },
      "outputs": [],
      "source": [
        "device = torch.device('cuda') if torch.cuda.is_available() else torch.device('cpu')\n",
        "print(device) \n",
        "model.to(device)"
      ]
    },
    {
      "cell_type": "code",
      "execution_count": null,
      "metadata": {
        "id": "x95OBuT7m5Nz"
      },
      "outputs": [],
      "source": [
        "from torch.optim import AdamW\n",
        "\n",
        "# activate training mode\n",
        "model.train()\n",
        "# initialize optimizer\n",
        "optim = AdamW(model.parameters(), lr=5e-5)"
      ]
    },
    {
      "cell_type": "code",
      "execution_count": null,
      "metadata": {
        "id": "ZXJKexIhnFrL",
        "colab": {
          "base_uri": "https://localhost:8080/",
          "height": 467,
          "referenced_widgets": [
            "20112654aee94a0b98841d8003b551f2",
            "886410b4410c4b29b306ecdd01883222",
            "5092487bd23d4956870a78640cad454b",
            "9928f12782d448ae9859c1961e4cf0ca",
            "7dbdad93595e42c99e917a9d028b91cf",
            "d144e10d881e467d8e6ab18c11465107",
            "ec2874387b674de0a1825a66243b630b",
            "1961dce970a44d35a320f0c259bf68e3",
            "0eb7fcb6e2f44055b11533fb6b01fbc0",
            "83fdeacb30324e4c82a4ee9e423d72fb",
            "734b2c561db6411fab4d5d40f6493a9f"
          ]
        },
        "outputId": "bd56b93a-88c2-4c1a-bcef-71896c0dba0a"
      },
      "outputs": [
        {
          "output_type": "display_data",
          "data": {
            "text/plain": [
              "  0%|          | 0/4021 [00:00<?, ?it/s]"
            ],
            "application/vnd.jupyter.widget-view+json": {
              "version_major": 2,
              "version_minor": 0,
              "model_id": "20112654aee94a0b98841d8003b551f2"
            }
          },
          "metadata": {}
        },
        {
          "output_type": "stream",
          "name": "stderr",
          "text": [
            "/usr/local/lib/python3.7/dist-packages/ipykernel_launcher.py:5: UserWarning: To copy construct from a tensor, it is recommended to use sourceTensor.clone().detach() or sourceTensor.clone().detach().requires_grad_(True), rather than torch.tensor(sourceTensor).\n",
            "  \"\"\"\n"
          ]
        },
        {
          "output_type": "error",
          "ename": "KeyboardInterrupt",
          "evalue": "ignored",
          "traceback": [
            "\u001b[0;31m---------------------------------------------------------------------------\u001b[0m",
            "\u001b[0;31mKeyboardInterrupt\u001b[0m                         Traceback (most recent call last)",
            "\u001b[0;32m<ipython-input-26-756813f36abf>\u001b[0m in \u001b[0;36m<module>\u001b[0;34m()\u001b[0m\n\u001b[1;32m     24\u001b[0m         \u001b[0mloss\u001b[0m\u001b[0;34m.\u001b[0m\u001b[0mbackward\u001b[0m\u001b[0;34m(\u001b[0m\u001b[0;34m)\u001b[0m\u001b[0;34m\u001b[0m\u001b[0;34m\u001b[0m\u001b[0m\n\u001b[1;32m     25\u001b[0m         \u001b[0;31m# update parameters\u001b[0m\u001b[0;34m\u001b[0m\u001b[0;34m\u001b[0m\u001b[0;34m\u001b[0m\u001b[0m\n\u001b[0;32m---> 26\u001b[0;31m         \u001b[0moptim\u001b[0m\u001b[0;34m.\u001b[0m\u001b[0mstep\u001b[0m\u001b[0;34m(\u001b[0m\u001b[0;34m)\u001b[0m\u001b[0;34m\u001b[0m\u001b[0;34m\u001b[0m\u001b[0m\n\u001b[0m\u001b[1;32m     27\u001b[0m         \u001b[0;31m# print relevant info to progress bar\u001b[0m\u001b[0;34m\u001b[0m\u001b[0;34m\u001b[0m\u001b[0;34m\u001b[0m\u001b[0m\n\u001b[1;32m     28\u001b[0m         \u001b[0mloop\u001b[0m\u001b[0;34m.\u001b[0m\u001b[0mset_description\u001b[0m\u001b[0;34m(\u001b[0m\u001b[0;34mf'Epoch {epoch}'\u001b[0m\u001b[0;34m)\u001b[0m\u001b[0;34m\u001b[0m\u001b[0;34m\u001b[0m\u001b[0m\n",
            "\u001b[0;32m/usr/local/lib/python3.7/dist-packages/torch/optim/optimizer.py\u001b[0m in \u001b[0;36mwrapper\u001b[0;34m(*args, **kwargs)\u001b[0m\n\u001b[1;32m     86\u001b[0m                 \u001b[0mprofile_name\u001b[0m \u001b[0;34m=\u001b[0m \u001b[0;34m\"Optimizer.step#{}.step\"\u001b[0m\u001b[0;34m.\u001b[0m\u001b[0mformat\u001b[0m\u001b[0;34m(\u001b[0m\u001b[0mobj\u001b[0m\u001b[0;34m.\u001b[0m\u001b[0m__class__\u001b[0m\u001b[0;34m.\u001b[0m\u001b[0m__name__\u001b[0m\u001b[0;34m)\u001b[0m\u001b[0;34m\u001b[0m\u001b[0;34m\u001b[0m\u001b[0m\n\u001b[1;32m     87\u001b[0m                 \u001b[0;32mwith\u001b[0m \u001b[0mtorch\u001b[0m\u001b[0;34m.\u001b[0m\u001b[0mautograd\u001b[0m\u001b[0;34m.\u001b[0m\u001b[0mprofiler\u001b[0m\u001b[0;34m.\u001b[0m\u001b[0mrecord_function\u001b[0m\u001b[0;34m(\u001b[0m\u001b[0mprofile_name\u001b[0m\u001b[0;34m)\u001b[0m\u001b[0;34m:\u001b[0m\u001b[0;34m\u001b[0m\u001b[0;34m\u001b[0m\u001b[0m\n\u001b[0;32m---> 88\u001b[0;31m                     \u001b[0;32mreturn\u001b[0m \u001b[0mfunc\u001b[0m\u001b[0;34m(\u001b[0m\u001b[0;34m*\u001b[0m\u001b[0margs\u001b[0m\u001b[0;34m,\u001b[0m \u001b[0;34m**\u001b[0m\u001b[0mkwargs\u001b[0m\u001b[0;34m)\u001b[0m\u001b[0;34m\u001b[0m\u001b[0;34m\u001b[0m\u001b[0m\n\u001b[0m\u001b[1;32m     89\u001b[0m             \u001b[0;32mreturn\u001b[0m \u001b[0mwrapper\u001b[0m\u001b[0;34m\u001b[0m\u001b[0;34m\u001b[0m\u001b[0m\n\u001b[1;32m     90\u001b[0m \u001b[0;34m\u001b[0m\u001b[0m\n",
            "\u001b[0;32m/usr/local/lib/python3.7/dist-packages/torch/autograd/grad_mode.py\u001b[0m in \u001b[0;36mdecorate_context\u001b[0;34m(*args, **kwargs)\u001b[0m\n\u001b[1;32m     25\u001b[0m         \u001b[0;32mdef\u001b[0m \u001b[0mdecorate_context\u001b[0m\u001b[0;34m(\u001b[0m\u001b[0;34m*\u001b[0m\u001b[0margs\u001b[0m\u001b[0;34m,\u001b[0m \u001b[0;34m**\u001b[0m\u001b[0mkwargs\u001b[0m\u001b[0;34m)\u001b[0m\u001b[0;34m:\u001b[0m\u001b[0;34m\u001b[0m\u001b[0;34m\u001b[0m\u001b[0m\n\u001b[1;32m     26\u001b[0m             \u001b[0;32mwith\u001b[0m \u001b[0mself\u001b[0m\u001b[0;34m.\u001b[0m\u001b[0mclone\u001b[0m\u001b[0;34m(\u001b[0m\u001b[0;34m)\u001b[0m\u001b[0;34m:\u001b[0m\u001b[0;34m\u001b[0m\u001b[0;34m\u001b[0m\u001b[0m\n\u001b[0;32m---> 27\u001b[0;31m                 \u001b[0;32mreturn\u001b[0m \u001b[0mfunc\u001b[0m\u001b[0;34m(\u001b[0m\u001b[0;34m*\u001b[0m\u001b[0margs\u001b[0m\u001b[0;34m,\u001b[0m \u001b[0;34m**\u001b[0m\u001b[0mkwargs\u001b[0m\u001b[0;34m)\u001b[0m\u001b[0;34m\u001b[0m\u001b[0;34m\u001b[0m\u001b[0m\n\u001b[0m\u001b[1;32m     28\u001b[0m         \u001b[0;32mreturn\u001b[0m \u001b[0mcast\u001b[0m\u001b[0;34m(\u001b[0m\u001b[0mF\u001b[0m\u001b[0;34m,\u001b[0m \u001b[0mdecorate_context\u001b[0m\u001b[0;34m)\u001b[0m\u001b[0;34m\u001b[0m\u001b[0;34m\u001b[0m\u001b[0m\n\u001b[1;32m     29\u001b[0m \u001b[0;34m\u001b[0m\u001b[0m\n",
            "\u001b[0;32m/usr/local/lib/python3.7/dist-packages/torch/optim/adamw.py\u001b[0m in \u001b[0;36mstep\u001b[0;34m(self, closure)\u001b[0m\n\u001b[1;32m    155\u001b[0m                     \u001b[0mweight_decay\u001b[0m\u001b[0;34m=\u001b[0m\u001b[0mgroup\u001b[0m\u001b[0;34m[\u001b[0m\u001b[0;34m'weight_decay'\u001b[0m\u001b[0;34m]\u001b[0m\u001b[0;34m,\u001b[0m\u001b[0;34m\u001b[0m\u001b[0;34m\u001b[0m\u001b[0m\n\u001b[1;32m    156\u001b[0m                     \u001b[0meps\u001b[0m\u001b[0;34m=\u001b[0m\u001b[0mgroup\u001b[0m\u001b[0;34m[\u001b[0m\u001b[0;34m'eps'\u001b[0m\u001b[0;34m]\u001b[0m\u001b[0;34m,\u001b[0m\u001b[0;34m\u001b[0m\u001b[0;34m\u001b[0m\u001b[0m\n\u001b[0;32m--> 157\u001b[0;31m                     maximize=group['maximize'])\n\u001b[0m\u001b[1;32m    158\u001b[0m \u001b[0;34m\u001b[0m\u001b[0m\n\u001b[1;32m    159\u001b[0m         \u001b[0;32mreturn\u001b[0m \u001b[0mloss\u001b[0m\u001b[0;34m\u001b[0m\u001b[0;34m\u001b[0m\u001b[0m\n",
            "\u001b[0;32m/usr/local/lib/python3.7/dist-packages/torch/optim/_functional.py\u001b[0m in \u001b[0;36madamw\u001b[0;34m(params, grads, exp_avgs, exp_avg_sqs, max_exp_avg_sqs, state_steps, amsgrad, beta1, beta2, lr, weight_decay, eps, maximize)\u001b[0m\n\u001b[1;32m    142\u001b[0m         \u001b[0;31m# Decay the first and second moment running average coefficient\u001b[0m\u001b[0;34m\u001b[0m\u001b[0;34m\u001b[0m\u001b[0;34m\u001b[0m\u001b[0m\n\u001b[1;32m    143\u001b[0m         \u001b[0mexp_avg\u001b[0m\u001b[0;34m.\u001b[0m\u001b[0mmul_\u001b[0m\u001b[0;34m(\u001b[0m\u001b[0mbeta1\u001b[0m\u001b[0;34m)\u001b[0m\u001b[0;34m.\u001b[0m\u001b[0madd_\u001b[0m\u001b[0;34m(\u001b[0m\u001b[0mgrad\u001b[0m\u001b[0;34m,\u001b[0m \u001b[0malpha\u001b[0m\u001b[0;34m=\u001b[0m\u001b[0;36m1\u001b[0m \u001b[0;34m-\u001b[0m \u001b[0mbeta1\u001b[0m\u001b[0;34m)\u001b[0m\u001b[0;34m\u001b[0m\u001b[0;34m\u001b[0m\u001b[0m\n\u001b[0;32m--> 144\u001b[0;31m         \u001b[0mexp_avg_sq\u001b[0m\u001b[0;34m.\u001b[0m\u001b[0mmul_\u001b[0m\u001b[0;34m(\u001b[0m\u001b[0mbeta2\u001b[0m\u001b[0;34m)\u001b[0m\u001b[0;34m.\u001b[0m\u001b[0maddcmul_\u001b[0m\u001b[0;34m(\u001b[0m\u001b[0mgrad\u001b[0m\u001b[0;34m,\u001b[0m \u001b[0mgrad\u001b[0m\u001b[0;34m,\u001b[0m \u001b[0mvalue\u001b[0m\u001b[0;34m=\u001b[0m\u001b[0;36m1\u001b[0m \u001b[0;34m-\u001b[0m \u001b[0mbeta2\u001b[0m\u001b[0;34m)\u001b[0m\u001b[0;34m\u001b[0m\u001b[0;34m\u001b[0m\u001b[0m\n\u001b[0m\u001b[1;32m    145\u001b[0m         \u001b[0;32mif\u001b[0m \u001b[0mamsgrad\u001b[0m\u001b[0;34m:\u001b[0m\u001b[0;34m\u001b[0m\u001b[0;34m\u001b[0m\u001b[0m\n\u001b[1;32m    146\u001b[0m             \u001b[0;31m# Maintains the maximum of all 2nd moment running avg. till now\u001b[0m\u001b[0;34m\u001b[0m\u001b[0;34m\u001b[0m\u001b[0;34m\u001b[0m\u001b[0m\n",
            "\u001b[0;31mKeyboardInterrupt\u001b[0m: "
          ]
        }
      ],
      "source": [
        "from tqdm.notebook import tqdm  # for our progress bar\n",
        "\n",
        "epochs = 3\n",
        "losses = [] \n",
        "\n",
        "for epoch in range(epochs):\n",
        "    # setup loop with TQDM and dataloader\n",
        "    loop = tqdm(loader, leave=True)\n",
        "    loss_curr = []\n",
        "    for batch in loop:\n",
        "        # initialize calculated gradients (from prev step)\n",
        "        optim.zero_grad()\n",
        "        # pull all tensor batches required for training\n",
        "        input_ids = batch['input_ids'].to(device)\n",
        "        token_type_ids = batch['token_type_ids'].to(device)\n",
        "        attention_mask = batch['attention_mask'].to(device)\n",
        "        labels = batch['labels'].to(device)\n",
        "        # process\n",
        "        outputs = model(input_ids, attention_mask=attention_mask,\n",
        "                        token_type_ids=token_type_ids,\n",
        "                        labels=labels)\n",
        "\n",
        "        # extract loss\n",
        "        loss = outputs.loss\n",
        "        # calculate loss for every parameter that needs grad update\n",
        "        loss.backward()\n",
        "        # update parameters\n",
        "        optim.step()\n",
        "        # print relevant info to progress bar\n",
        "        loop.set_description(f'Epoch {epoch}')\n",
        "        loop.set_postfix(loss=loss.item())\n",
        "        loss_curr.append(loss.item())\n",
        "\n",
        "    losses.append(loss_curr)\n",
        "    model.save_pretrained(f'rubert_epoch_{epoch + 1}') "
      ]
    },
    {
      "cell_type": "code",
      "source": [
        "import matplotlib.pyplot as plt "
      ],
      "metadata": {
        "id": "J84E3LxoWnYJ"
      },
      "execution_count": null,
      "outputs": []
    },
    {
      "cell_type": "code",
      "execution_count": null,
      "metadata": {
        "id": "Cx3IfYy6nQSi"
      },
      "outputs": [],
      "source": [
        "losses = np.array(losses) \n",
        "plt.plot(np.mean(losses))"
      ]
    }
  ],
  "metadata": {
    "colab": {
      "collapsed_sections": [],
      "name": "MLM.ipynb",
      "provenance": []
    },
    "kernelspec": {
      "display_name": "Python 3",
      "name": "python3"
    },
    "language_info": {
      "name": "python"
    },
    "widgets": {
      "application/vnd.jupyter.widget-state+json": {
        "20112654aee94a0b98841d8003b551f2": {
          "model_module": "@jupyter-widgets/controls",
          "model_name": "HBoxModel",
          "model_module_version": "1.5.0",
          "state": {
            "_dom_classes": [],
            "_model_module": "@jupyter-widgets/controls",
            "_model_module_version": "1.5.0",
            "_model_name": "HBoxModel",
            "_view_count": null,
            "_view_module": "@jupyter-widgets/controls",
            "_view_module_version": "1.5.0",
            "_view_name": "HBoxView",
            "box_style": "",
            "children": [
              "IPY_MODEL_886410b4410c4b29b306ecdd01883222",
              "IPY_MODEL_5092487bd23d4956870a78640cad454b",
              "IPY_MODEL_9928f12782d448ae9859c1961e4cf0ca"
            ],
            "layout": "IPY_MODEL_7dbdad93595e42c99e917a9d028b91cf"
          }
        },
        "886410b4410c4b29b306ecdd01883222": {
          "model_module": "@jupyter-widgets/controls",
          "model_name": "HTMLModel",
          "model_module_version": "1.5.0",
          "state": {
            "_dom_classes": [],
            "_model_module": "@jupyter-widgets/controls",
            "_model_module_version": "1.5.0",
            "_model_name": "HTMLModel",
            "_view_count": null,
            "_view_module": "@jupyter-widgets/controls",
            "_view_module_version": "1.5.0",
            "_view_name": "HTMLView",
            "description": "",
            "description_tooltip": null,
            "layout": "IPY_MODEL_d144e10d881e467d8e6ab18c11465107",
            "placeholder": "​",
            "style": "IPY_MODEL_ec2874387b674de0a1825a66243b630b",
            "value": "Epoch 0:   1%"
          }
        },
        "5092487bd23d4956870a78640cad454b": {
          "model_module": "@jupyter-widgets/controls",
          "model_name": "FloatProgressModel",
          "model_module_version": "1.5.0",
          "state": {
            "_dom_classes": [],
            "_model_module": "@jupyter-widgets/controls",
            "_model_module_version": "1.5.0",
            "_model_name": "FloatProgressModel",
            "_view_count": null,
            "_view_module": "@jupyter-widgets/controls",
            "_view_module_version": "1.5.0",
            "_view_name": "ProgressView",
            "bar_style": "danger",
            "description": "",
            "description_tooltip": null,
            "layout": "IPY_MODEL_1961dce970a44d35a320f0c259bf68e3",
            "max": 4021,
            "min": 0,
            "orientation": "horizontal",
            "style": "IPY_MODEL_0eb7fcb6e2f44055b11533fb6b01fbc0",
            "value": 35
          }
        },
        "9928f12782d448ae9859c1961e4cf0ca": {
          "model_module": "@jupyter-widgets/controls",
          "model_name": "HTMLModel",
          "model_module_version": "1.5.0",
          "state": {
            "_dom_classes": [],
            "_model_module": "@jupyter-widgets/controls",
            "_model_module_version": "1.5.0",
            "_model_name": "HTMLModel",
            "_view_count": null,
            "_view_module": "@jupyter-widgets/controls",
            "_view_module_version": "1.5.0",
            "_view_name": "HTMLView",
            "description": "",
            "description_tooltip": null,
            "layout": "IPY_MODEL_83fdeacb30324e4c82a4ee9e423d72fb",
            "placeholder": "​",
            "style": "IPY_MODEL_734b2c561db6411fab4d5d40f6493a9f",
            "value": " 35/4021 [01:00&lt;1:50:51,  1.67s/it, loss=0.339]"
          }
        },
        "7dbdad93595e42c99e917a9d028b91cf": {
          "model_module": "@jupyter-widgets/base",
          "model_name": "LayoutModel",
          "model_module_version": "1.2.0",
          "state": {
            "_model_module": "@jupyter-widgets/base",
            "_model_module_version": "1.2.0",
            "_model_name": "LayoutModel",
            "_view_count": null,
            "_view_module": "@jupyter-widgets/base",
            "_view_module_version": "1.2.0",
            "_view_name": "LayoutView",
            "align_content": null,
            "align_items": null,
            "align_self": null,
            "border": null,
            "bottom": null,
            "display": null,
            "flex": null,
            "flex_flow": null,
            "grid_area": null,
            "grid_auto_columns": null,
            "grid_auto_flow": null,
            "grid_auto_rows": null,
            "grid_column": null,
            "grid_gap": null,
            "grid_row": null,
            "grid_template_areas": null,
            "grid_template_columns": null,
            "grid_template_rows": null,
            "height": null,
            "justify_content": null,
            "justify_items": null,
            "left": null,
            "margin": null,
            "max_height": null,
            "max_width": null,
            "min_height": null,
            "min_width": null,
            "object_fit": null,
            "object_position": null,
            "order": null,
            "overflow": null,
            "overflow_x": null,
            "overflow_y": null,
            "padding": null,
            "right": null,
            "top": null,
            "visibility": null,
            "width": null
          }
        },
        "d144e10d881e467d8e6ab18c11465107": {
          "model_module": "@jupyter-widgets/base",
          "model_name": "LayoutModel",
          "model_module_version": "1.2.0",
          "state": {
            "_model_module": "@jupyter-widgets/base",
            "_model_module_version": "1.2.0",
            "_model_name": "LayoutModel",
            "_view_count": null,
            "_view_module": "@jupyter-widgets/base",
            "_view_module_version": "1.2.0",
            "_view_name": "LayoutView",
            "align_content": null,
            "align_items": null,
            "align_self": null,
            "border": null,
            "bottom": null,
            "display": null,
            "flex": null,
            "flex_flow": null,
            "grid_area": null,
            "grid_auto_columns": null,
            "grid_auto_flow": null,
            "grid_auto_rows": null,
            "grid_column": null,
            "grid_gap": null,
            "grid_row": null,
            "grid_template_areas": null,
            "grid_template_columns": null,
            "grid_template_rows": null,
            "height": null,
            "justify_content": null,
            "justify_items": null,
            "left": null,
            "margin": null,
            "max_height": null,
            "max_width": null,
            "min_height": null,
            "min_width": null,
            "object_fit": null,
            "object_position": null,
            "order": null,
            "overflow": null,
            "overflow_x": null,
            "overflow_y": null,
            "padding": null,
            "right": null,
            "top": null,
            "visibility": null,
            "width": null
          }
        },
        "ec2874387b674de0a1825a66243b630b": {
          "model_module": "@jupyter-widgets/controls",
          "model_name": "DescriptionStyleModel",
          "model_module_version": "1.5.0",
          "state": {
            "_model_module": "@jupyter-widgets/controls",
            "_model_module_version": "1.5.0",
            "_model_name": "DescriptionStyleModel",
            "_view_count": null,
            "_view_module": "@jupyter-widgets/base",
            "_view_module_version": "1.2.0",
            "_view_name": "StyleView",
            "description_width": ""
          }
        },
        "1961dce970a44d35a320f0c259bf68e3": {
          "model_module": "@jupyter-widgets/base",
          "model_name": "LayoutModel",
          "model_module_version": "1.2.0",
          "state": {
            "_model_module": "@jupyter-widgets/base",
            "_model_module_version": "1.2.0",
            "_model_name": "LayoutModel",
            "_view_count": null,
            "_view_module": "@jupyter-widgets/base",
            "_view_module_version": "1.2.0",
            "_view_name": "LayoutView",
            "align_content": null,
            "align_items": null,
            "align_self": null,
            "border": null,
            "bottom": null,
            "display": null,
            "flex": null,
            "flex_flow": null,
            "grid_area": null,
            "grid_auto_columns": null,
            "grid_auto_flow": null,
            "grid_auto_rows": null,
            "grid_column": null,
            "grid_gap": null,
            "grid_row": null,
            "grid_template_areas": null,
            "grid_template_columns": null,
            "grid_template_rows": null,
            "height": null,
            "justify_content": null,
            "justify_items": null,
            "left": null,
            "margin": null,
            "max_height": null,
            "max_width": null,
            "min_height": null,
            "min_width": null,
            "object_fit": null,
            "object_position": null,
            "order": null,
            "overflow": null,
            "overflow_x": null,
            "overflow_y": null,
            "padding": null,
            "right": null,
            "top": null,
            "visibility": null,
            "width": null
          }
        },
        "0eb7fcb6e2f44055b11533fb6b01fbc0": {
          "model_module": "@jupyter-widgets/controls",
          "model_name": "ProgressStyleModel",
          "model_module_version": "1.5.0",
          "state": {
            "_model_module": "@jupyter-widgets/controls",
            "_model_module_version": "1.5.0",
            "_model_name": "ProgressStyleModel",
            "_view_count": null,
            "_view_module": "@jupyter-widgets/base",
            "_view_module_version": "1.2.0",
            "_view_name": "StyleView",
            "bar_color": null,
            "description_width": ""
          }
        },
        "83fdeacb30324e4c82a4ee9e423d72fb": {
          "model_module": "@jupyter-widgets/base",
          "model_name": "LayoutModel",
          "model_module_version": "1.2.0",
          "state": {
            "_model_module": "@jupyter-widgets/base",
            "_model_module_version": "1.2.0",
            "_model_name": "LayoutModel",
            "_view_count": null,
            "_view_module": "@jupyter-widgets/base",
            "_view_module_version": "1.2.0",
            "_view_name": "LayoutView",
            "align_content": null,
            "align_items": null,
            "align_self": null,
            "border": null,
            "bottom": null,
            "display": null,
            "flex": null,
            "flex_flow": null,
            "grid_area": null,
            "grid_auto_columns": null,
            "grid_auto_flow": null,
            "grid_auto_rows": null,
            "grid_column": null,
            "grid_gap": null,
            "grid_row": null,
            "grid_template_areas": null,
            "grid_template_columns": null,
            "grid_template_rows": null,
            "height": null,
            "justify_content": null,
            "justify_items": null,
            "left": null,
            "margin": null,
            "max_height": null,
            "max_width": null,
            "min_height": null,
            "min_width": null,
            "object_fit": null,
            "object_position": null,
            "order": null,
            "overflow": null,
            "overflow_x": null,
            "overflow_y": null,
            "padding": null,
            "right": null,
            "top": null,
            "visibility": null,
            "width": null
          }
        },
        "734b2c561db6411fab4d5d40f6493a9f": {
          "model_module": "@jupyter-widgets/controls",
          "model_name": "DescriptionStyleModel",
          "model_module_version": "1.5.0",
          "state": {
            "_model_module": "@jupyter-widgets/controls",
            "_model_module_version": "1.5.0",
            "_model_name": "DescriptionStyleModel",
            "_view_count": null,
            "_view_module": "@jupyter-widgets/base",
            "_view_module_version": "1.2.0",
            "_view_name": "StyleView",
            "description_width": ""
          }
        }
      }
    }
  },
  "nbformat": 4,
  "nbformat_minor": 0
}